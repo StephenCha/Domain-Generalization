{
 "cells": [
  {
   "cell_type": "code",
   "execution_count": 3,
   "id": "6acb1ead-5c34-42aa-b749-afd6f812ce5d",
   "metadata": {},
   "outputs": [
    {
     "name": "stdout",
     "output_type": "stream",
     "text": [
      "- Python version\n",
      "sys.version_info(major=3, minor=8, micro=11, releaselevel='final', serial=0)\n",
      "- Pytorch version\n",
      "1.9.0\n",
      "- OS information\n",
      "Linux-5.11.0-37-generic-x86_64-with-glibc2.17\n",
      "- Is GPU available?\n",
      "True\n",
      "- CPU information\n",
      "- Memory information\n",
      "- GPU information\n",
      "Thu Sep 30 14:02:02 2021       \n",
      "+-----------------------------------------------------------------------------+\n",
      "| NVIDIA-SMI 465.19.01    Driver Version: 465.19.01    CUDA Version: 11.3     |\n",
      "|-------------------------------+----------------------+----------------------+\n",
      "| GPU  Name        Persistence-M| Bus-Id        Disp.A | Volatile Uncorr. ECC |\n",
      "| Fan  Temp  Perf  Pwr:Usage/Cap|         Memory-Usage | GPU-Util  Compute M. |\n",
      "|                               |                      |               MIG M. |\n",
      "|===============================+======================+======================|\n",
      "|   0  NVIDIA GeForce ...  On   | 00000000:01:00.0 Off |                  N/A |\n",
      "| 81%   71C    P2   129W / 350W |  10139MiB / 24259MiB |      0%      Default |\n",
      "|                               |                      |                  N/A |\n",
      "+-------------------------------+----------------------+----------------------+\n",
      "|   1  NVIDIA GeForce ...  On   | 00000000:03:00.0 Off |                  N/A |\n",
      "| 29%   37C    P8    12W / 160W |      8MiB /  5934MiB |      0%      Default |\n",
      "|                               |                      |                  N/A |\n",
      "+-------------------------------+----------------------+----------------------+\n",
      "                                                                               \n",
      "+-----------------------------------------------------------------------------+\n",
      "| Processes:                                                                  |\n",
      "|  GPU   GI   CI        PID   Type   Process name                  GPU Memory |\n",
      "|        ID   ID                                                   Usage      |\n",
      "|=============================================================================|\n",
      "|    0   N/A  N/A      1755      G   /usr/lib/xorg/Xorg                 56MiB |\n",
      "|    0   N/A  N/A      1899      G   /usr/bin/gnome-shell                9MiB |\n",
      "|    0   N/A  N/A    648171      C   ...nda3/envs/py38/bin/python    10069MiB |\n",
      "|    1   N/A  N/A      1755      G   /usr/lib/xorg/Xorg                  4MiB |\n",
      "+-----------------------------------------------------------------------------+\n"
     ]
    }
   ],
   "source": [
    "import sys\n",
    "import platform\n",
    "import torch\n",
    "\n",
    "print(\"- Python version\")\n",
    "print(sys.version_info)\n",
    "print(\"- Pytorch version\")\n",
    "print(torch.__version__)\n",
    "print(\"- OS information\")\n",
    "print(platform.platform())\n",
    "print(\"- Is GPU available?\")\n",
    "print(torch.cuda.is_available())\n",
    "print(\"- CPU information\")\n",
    "#!cat /proc/cpuinfo\n",
    "print(\"- Memory information\")\n",
    "#!cat /proc/meminfo\n",
    "print(\"- GPU information\")\n",
    "!nvidia-smi"
   ]
  },
  {
   "cell_type": "code",
   "execution_count": null,
   "id": "919d694c-b0a0-4526-9cd5-e6f5d10e8f75",
   "metadata": {},
   "outputs": [],
   "source": []
  }
 ],
 "metadata": {
  "kernelspec": {
   "display_name": "Python 3 (ipykernel)",
   "language": "python",
   "name": "python3"
  },
  "language_info": {
   "codemirror_mode": {
    "name": "ipython",
    "version": 3
   },
   "file_extension": ".py",
   "mimetype": "text/x-python",
   "name": "python",
   "nbconvert_exporter": "python",
   "pygments_lexer": "ipython3",
   "version": "3.8.11"
  }
 },
 "nbformat": 4,
 "nbformat_minor": 5
}
